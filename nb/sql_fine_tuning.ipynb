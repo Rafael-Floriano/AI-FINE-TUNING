{
 "cells": [
  {
   "cell_type": "markdown",
   "metadata": {},
   "source": [
    "# Fine-tuning para Geração de SQL\n",
    "\n",
    "Este notebook realiza o fine-tuning do modelo Mistral 7B para gerar consultas SQL a partir de perguntas em português."
   ]
  },
  {
   "cell_type": "markdown",
   "metadata": {},
   "source": [
    "## Instalação das Dependências"
   ]
  },
  {
   "cell_type": "code",
   "execution_count": null,
   "metadata": {},
   "outputs": [],
   "source": [
    "%%capture\n",
    "import os\n",
    "if \"COLAB_\" not in \"\".join(os.environ.keys()):\n",
    "    !pip install unsloth\n",
    "else:\n",
    "    !pip install --no-deps bitsandbytes accelerate xformers==0.0.29.post3 peft trl triton cut_cross_entropy unsloth_zoo\n",
    "    !pip install sentencepiece protobuf \"datasets>=3.4.1\" huggingface_hub hf_transfer\n",
    "    !pip install --no-deps unsloth"
   ]
  },
  {
   "cell_type": "markdown",
   "metadata": {},
   "source": [
    "## Carregamento do Modelo"
   ]
  },
  {
   "cell_type": "code",
   "execution_count": null,
   "metadata": {},
   "outputs": [],
   "source": [
    "from unsloth import FastLanguageModel\n",
    "import torch\n",
    "\n",
    "# Configurações do modelo\n",
    "max_seq_length = 2048  # Comprimento máximo da sequência\n",
    "dtype = None  # Detecção automática do tipo de dados\n",
    "load_in_4bit = True  # Usar quantização 4-bit para reduzir uso de memória\n",
    "\n",
    "# Carregar o modelo\n",
    "model, tokenizer = FastLanguageModel.from_pretrained(\n",
    "    model_name = \"unsloth/mistral-7b-instruct-v0.3-bnb-4bit\",\n",
    "    max_seq_length = max_seq_length,\n",
    "    dtype = dtype,\n",
    "    load_in_4bit = load_in_4bit,\n",
    ")"
   ]
  },
  {
   "cell_type": "markdown",
   "metadata": {},
   "source": [
    "## Configuração do LoRA"
   ]
  },
  {
   "cell_type": "code",
   "execution_count": null,
   "metadata": {},
   "outputs": [],
   "source": [
    "# Configurar LoRA para treinamento eficiente\n",
    "model = FastLanguageModel.get_peft_model(\n",
    "    model,\n",
    "    r = 16,  # Rank do LoRA\n",
    "    target_modules = [\"q_proj\", \"k_proj\", \"v_proj\", \"o_proj\",\n",
    "                     \"gate_proj\", \"up_proj\", \"down_proj\"],\n",
    "    lora_alpha = 16,\n",
    "    lora_dropout = 0,\n",
    "    bias = \"none\",\n",
    "    use_gradient_checkpointing = True,\n",
    "    random_state = 3407\n",
    ")"
   ]
  },
  {
   "cell_type": "markdown",
   "metadata": {},
   "source": [
    "## Preparação dos Dados"
   ]
  },
  {
   "cell_type": "code",
   "execution_count": null,
   "metadata": {},
   "outputs": [],
   "source": [
    "import json\n",
    "from datasets import Dataset\n",
    "\n",
    "# Carregar o dataset\n",
    "with open('delfos_fine_tunning.json', 'r', encoding='utf-8') as f:\n",
    "    data = json.load(f)\n",
    "\n",
    "# Converter para o formato do Hugging Face\n",
    "dataset = Dataset.from_list(data)"
   ]
  },
  {
   "cell_type": "markdown",
   "metadata": {},
   "source": [
    "## Configuração do Treinamento"
   ]
  },
  {
   "cell_type": "code",
   "execution_count": null,
   "metadata": {},
   "outputs": [],
   "source": [
    "from trl import SFTTrainer\n",
    "from transformers import TrainingArguments\n",
    "from unsloth import is_bfloat16_supported\n",
    "\n",
    "# Função de formatação para o dataset\n",
    "def formatting_func(example):\n",
    "    conversations = example['conversations']\n",
    "    formatted_text = \"\"\n",
    "    for message in conversations:\n",
    "        if message['role'] == 'system':\n",
    "            formatted_text += f\"<|im_start|>system\\n{message['content']}<|im_end|>\\n\"\n",
    "        elif message['role'] == 'user':\n",
    "            formatted_text += f\"<|im_start|>user\\n{message['content']}<|im_end|>\\n\"\n",
    "        elif message['role'] == 'assistant':\n",
    "            formatted_text += f\"<|im_start|>assistant\\n{message['content']}<|im_end|>\\n\"\n",
    "    return formatted_text\n",
    "\n",
    "# Configurar o treinador\n",
    "trainer = SFTTrainer(\n",
    "    model = model,\n",
    "    tokenizer = tokenizer,\n",
    "    train_dataset = dataset,\n",
    "    formatting_func = formatting_func,\n",
    "    max_seq_length = max_seq_length,\n",
    "    dataset_num_proc = 2,\n",
    "    packing = False,\n",
    "    args = TrainingArguments(\n",
    "        per_device_train_batch_size = 2,\n",
    "        gradient_accumulation_steps = 4,\n",
    "        warmup_steps = 10,\n",
    "        max_steps = 100,\n",
    "        learning_rate = 2e-4,\n",
    "        fp16 = not is_bfloat16_supported(),\n",
    "        bf16 = is_bfloat16_supported(),\n",
    "        logging_steps = 1,\n",
    "        optim = \"adamw_8bit\",\n",
    "        weight_decay = 0.01,\n",
    "        lr_scheduler_type = \"cosine\",\n",
    "        seed = 3407,\n",
    "        output_dir = \"outputs\",\n",
    "        report_to = \"none\",\n",
    "    ),\n",
    ")"
   ]
  },
  {
   "cell_type": "markdown",
   "metadata": {},
   "source": [
    "## Iniciar o Treinamento"
   ]
  },
  {
   "cell_type": "code",
   "execution_count": null,
   "metadata": {},
   "outputs": [],
   "source": [
    "# Iniciar o treinamento\n",
    "trainer.train()"
   ]
  },
  {
   "cell_type": "markdown",
   "metadata": {},
   "source": [
    "## Salvar o Modelo"
   ]
  },
  {
   "cell_type": "code",
   "execution_count": null,
   "metadata": {},
   "outputs": [],
   "source": [
    "# Salvar o modelo treinado\n",
    "model.save_pretrained(\"sql_model\")\n",
    "tokenizer.save_pretrained(\"sql_model\")"
   ]
  },
  {
   "cell_type": "markdown",
   "metadata": {},
   "source": [
    "## Testar o Modelo"
   ]
  },
  {
   "cell_type": "code",
   "execution_count": null,
   "metadata": {},
   "outputs": [],
   "source": [
    "def generate_sql(question):\n",
    "    prompt = f\"<|im_start|>system\\nVocê é um assistente especializado em gerar consultas SQL a partir de perguntas em português. Sua função é traduzir perguntas em linguagem natural para consultas SQL válidas, considerando as seguintes tabelas:\\n\\n- cliente (id, nome, email)\\n- endereco (id, cliente_id, rua, cidade, estado, cep)\\n- produto (id, nome, preco)\\n- venda (id, cliente_id, produto_id, quantidade, total)\\n\\nVocê deve gerar apenas a consulta SQL, sem explicações adicionais.<|im_end|>\\n<|im_start|>user\\n{question}<|im_end|>\\n<|im_start|>assistant\\n\"\n",
    "\n",
    "    inputs = tokenizer(prompt, return_tensors=\"pt\").to(\"cuda\")\n",
    "    outputs = model.generate(\n",
    "        **inputs,\n",
    "        max_new_tokens=128,\n",
    "        temperature=0.1,\n",
    "        top_p=0.95,\n",
    "        repetition_penalty=1.1\n",
    "    )\n",
    "    return tokenizer.decode(outputs[0], skip_special_tokens=True)\n",
    "\n",
    "# Testar com algumas perguntas\n",
    "test_questions = [\n",
    "    \"Quais são os nomes e e-mails dos clientes?\",\n",
    "    \"Liste os endereços de todos os clientes que moram em Minas Gerais.\",\n",
    "    \"Mostre os clientes e os produtos que eles compraram.\"\n",
    "]\n",
    "\n",
    "for question in test_questions:\n",
    "    print(f\"\\nPergunta: {question}\")\n",
    "    print(f\"SQL: {generate_sql(question)}\")"
   ]
  }
 ],
 "metadata": {
  "accelerator": "GPU",
  "colab": {
   "gpuType": "T4",
   "provenance": []
  },
  "kernelspec": {
   "display_name": "Python 3",
   "name": "python3"
  },
  "language_info": {
   "name": "python"
  }
 },
 "nbformat": 4,
 "nbformat_minor": 0
}